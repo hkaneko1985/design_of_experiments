{
 "cells": [
  {
   "cell_type": "markdown",
   "metadata": {},
   "source": [
    "# Design of Experiments (DoE)\n",
    "Hiromasa Kaneko\n",
    "\n",
    "## Outputs are 'all_experiments.csv' and 'selected_experiments.csv'\n",
    "## 'all_experiments.csv' includes all possible experiments and\n",
    "## 'selected_experiments.csv' includes experiments selected from them.\n",
    "\n",
    "## In settings, you can change the contents of 'variable1', 'variable2' and 'variable3',\n",
    "## delete 'variable3', and add 'variable4', 'variable5', ... after 'variable3'"
   ]
  },
  {
   "cell_type": "code",
   "execution_count": null,
   "metadata": {},
   "outputs": [],
   "source": [
    "import numpy as np\n",
    "import pandas as pd\n",
    "from numpy import matlib"
   ]
  },
  {
   "cell_type": "code",
   "execution_count": null,
   "metadata": {},
   "outputs": [],
   "source": [
    "# settings\n",
    "number_of_experiments = 30\n",
    "variables = {'variable1': [1, 2, 3, 4, 5],\n",
    "             'variable2': [-10, 0, 10, 20],\n",
    "             'variable3': [0.2, 0.6, 0.8, 1, 1.2]\n",
    "             }\n",
    "# you can add 'variable4', 'variable5', ... after 'variable3' as well \n",
    "optimal_type = 'D' # D, I\n",
    "number_of_random_searches = 1000"
   ]
  },
  {
   "cell_type": "code",
   "execution_count": null,
   "metadata": {},
   "outputs": [],
   "source": [
    "# make all possible experiments\n",
    "all_experiments = np.array(variables['variable1'])\n",
    "all_experiments = np.reshape(all_experiments, (all_experiments.shape[0], 1))\n",
    "for variable_number in range(2, len(variables) + 1):\n",
    "    grid_seed = variables['variable{0}'.format(variable_number)]\n",
    "    grid_seed_tmp = matlib.repmat(grid_seed, all_experiments.shape[0], 1)\n",
    "    all_experiments = np.c_[matlib.repmat(all_experiments, len(grid_seed), 1),\n",
    "                            np.reshape(grid_seed_tmp.T, (np.prod(grid_seed_tmp.shape), 1))]"
   ]
  },
  {
   "cell_type": "code",
   "execution_count": null,
   "metadata": {},
   "outputs": [],
   "source": [
    "all_experiments_df = pd.DataFrame(all_experiments)\n",
    "all_experiments_df.to_csv('all_experiments.csv', header=False, index=False)"
   ]
  },
  {
   "cell_type": "code",
   "execution_count": null,
   "metadata": {},
   "outputs": [],
   "source": [
    "# select experiments\n",
    "all_indexes = list(range(all_experiments_df.shape[0]))\n",
    "np.random.seed(100) # fix random number seed\n",
    "experiment_indexes = np.arange(0, all_experiments.shape[0])\n",
    "autoscaled_all_experiments = (all_experiments - all_experiments.mean(axis=0)) / all_experiments.std(axis=0, ddof=1)\n",
    "for random_search_number in range(number_of_random_searches):\n",
    "    new_selected_experiment_numbers = np.random.choice(all_indexes, number_of_experiments, replace=False)\n",
    "    new_selected_experiments = all_experiments[new_selected_experiment_numbers, :]\n",
    "    autoscaled_new_selected_experiments = (new_selected_experiments - new_selected_experiments.mean(axis=0)) / new_selected_experiments.std(axis=0, ddof=1)\n",
    "    if optimal_type == 'D':\n",
    "        optimal_value = np.linalg.det(np.dot(autoscaled_new_selected_experiments.T, autoscaled_new_selected_experiments))\n",
    "    elif optimal_type == 'I':\n",
    "        optimal_value = sum(np.diag(autoscaled_new_selected_experiments.dot(np.linalg.inv(np.dot(autoscaled_new_selected_experiments.T, autoscaled_new_selected_experiments) / autoscaled_new_selected_experiments.shape[0])).dot(autoscaled_new_selected_experiments.T)))\n",
    "        \n",
    "    if random_search_number == 0:\n",
    "        best_optimal_value = optimal_value\n",
    "        selected_experiment_indexes = new_selected_experiment_numbers.copy()\n",
    "    else:\n",
    "        if optimal_type == 'D':\n",
    "            if best_optimal_value < optimal_value:\n",
    "                print(best_optimal_value)\n",
    "                selected_experiment_indexes = new_selected_experiment_numbers.copy()\n",
    "                best_optimal_value = optimal_value\n",
    "        elif optimal_type == 'I':\n",
    "            if best_optimal_value > optimal_value:\n",
    "                print(best_optimal_value)\n",
    "                selected_experiment_indexes = new_selected_experiment_numbers.copy()\n",
    "                best_optimal_value = optimal_value"
   ]
  },
  {
   "cell_type": "code",
   "execution_count": null,
   "metadata": {},
   "outputs": [],
   "source": [
    "selected_experiments_df = pd.DataFrame(all_experiments[selected_experiment_indexes, :])\n",
    "selected_experiments_df.to_csv('selected_experiments.csv', header=False, index=False)"
   ]
  }
 ],
 "metadata": {
  "kernelspec": {
   "display_name": "Python 3",
   "language": "python",
   "name": "python3"
  },
  "language_info": {
   "codemirror_mode": {
    "name": "ipython",
    "version": 3
   },
   "file_extension": ".py",
   "mimetype": "text/x-python",
   "name": "python",
   "nbconvert_exporter": "python",
   "pygments_lexer": "ipython3",
   "version": "3.7.9"
  }
 },
 "nbformat": 4,
 "nbformat_minor": 2
}
